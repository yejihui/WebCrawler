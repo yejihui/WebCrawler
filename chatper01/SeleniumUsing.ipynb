{
 "cells": [
  {
   "cell_type": "code",
   "execution_count": 17,
   "outputs": [],
   "source": [
    "import time\n",
    "\n",
    "from selenium import webdriver\n",
    "from selenium.webdriver.common.by import By\n",
    "\n",
    "browser = webdriver.Chrome()"
   ],
   "metadata": {
    "collapsed": false
   }
  },
  {
   "cell_type": "code",
   "execution_count": 18,
   "metadata": {
    "collapsed": true
   },
   "outputs": [
    {
     "name": "stdout",
     "output_type": "stream",
     "text": [
      "<selenium.webdriver.remote.webelement.WebElement (session=\"91a13d358b6ce7f49533249be9283cb4\", element=\"191f34c9-ea21-491d-aab1-cbf555a1aebd\")> <selenium.webdriver.remote.webelement.WebElement (session=\"91a13d358b6ce7f49533249be9283cb4\", element=\"191f34c9-ea21-491d-aab1-cbf555a1aebd\")> <selenium.webdriver.remote.webelement.WebElement (session=\"91a13d358b6ce7f49533249be9283cb4\", element=\"191f34c9-ea21-491d-aab1-cbf555a1aebd\")>\n"
     ]
    }
   ],
   "source": [
    "browser.get(\"https://www.taobao.com\")\n",
    "input_frist = browser.find_element(By.ID,'q')\n",
    "input_second = browser.find_element(By.CSS_SELECTOR,\"#q\")\n",
    "input_third = browser.find_element(By.XPATH,'//*[@id=\"q\"]')\n",
    "print(input_frist,input_second,input_third)"
   ]
  },
  {
   "cell_type": "code",
   "execution_count": 16,
   "outputs": [
    {
     "name": "stdout",
     "output_type": "stream",
     "text": [
      "[<selenium.webdriver.remote.webelement.WebElement (session=\"591ab1a40b8e018a81dbca30026f4f23\", element=\"b0d85f2e-2467-420e-9362-cbb1e4ad0bf6\")>, <selenium.webdriver.remote.webelement.WebElement (session=\"591ab1a40b8e018a81dbca30026f4f23\", element=\"37d0cee9-385b-42d2-8672-52b235ed3108\")>, <selenium.webdriver.remote.webelement.WebElement (session=\"591ab1a40b8e018a81dbca30026f4f23\", element=\"8ec27afc-7e0e-492c-ba2e-1c2f57d003ce\")>, <selenium.webdriver.remote.webelement.WebElement (session=\"591ab1a40b8e018a81dbca30026f4f23\", element=\"6908d5b2-a0ec-4838-af2e-7f620bb92237\")>, <selenium.webdriver.remote.webelement.WebElement (session=\"591ab1a40b8e018a81dbca30026f4f23\", element=\"e6b97d4c-db19-4d5c-9706-fd050b8bcc32\")>, <selenium.webdriver.remote.webelement.WebElement (session=\"591ab1a40b8e018a81dbca30026f4f23\", element=\"35f2de0b-1fdb-4b11-9e65-4e577d9d4df6\")>, <selenium.webdriver.remote.webelement.WebElement (session=\"591ab1a40b8e018a81dbca30026f4f23\", element=\"ad7c1307-1ed9-454a-bca7-a8a18cb25896\")>, <selenium.webdriver.remote.webelement.WebElement (session=\"591ab1a40b8e018a81dbca30026f4f23\", element=\"b7a41c26-5c7d-4fe2-8ec0-126344fddca4\")>]\n"
     ]
    }
   ],
   "source": [
    "lis = browser.find_elements(By.CSS_SELECTOR,'.J_Cat')\n",
    "print(lis)"
   ],
   "metadata": {
    "collapsed": false
   }
  },
  {
   "cell_type": "code",
   "execution_count": 19,
   "outputs": [],
   "source": [
    "input = browser.find_element(By.ID,'q')\n",
    "input.send_keys('iPhone')\n",
    "time.sleep(1)\n",
    "input.clear()\n",
    "input.send_keys('iPad')\n",
    "button = browser.find_element(By.CLASS_NAME,'btn-search')\n",
    "button.click()"
   ],
   "metadata": {
    "collapsed": false
   }
  },
  {
   "cell_type": "code",
   "execution_count": 23,
   "outputs": [
    {
     "name": "stdout",
     "output_type": "stream",
     "text": [
      "<selenium.webdriver.remote.webelement.WebElement (session=\"91a13d358b6ce7f49533249be9283cb4\", element=\"aa82910b-18d4-4c61-b343-a1e6cecb1db0\")>\n",
      "ExploreHomePage-ContentSection ExploreHomePage-section\n"
     ]
    }
   ],
   "source": [
    "from selenium.webdriver import ActionChains\n",
    "url = 'https://www.zhihu.com/explore'\n",
    "browser.get(url)\n",
    "logo = browser.find_element(By.ID,'guestSquare')\n",
    "print(logo)\n",
    "print(logo.get_attribute('class'))"
   ],
   "metadata": {
    "collapsed": false
   }
  },
  {
   "cell_type": "code",
   "execution_count": 24,
   "outputs": [
    {
     "name": "stdout",
     "output_type": "stream",
     "text": [
      "近期热点\n"
     ]
    }
   ],
   "source": [
    "input = browser.find_element(By.CLASS_NAME, 'css-1iw0hlv')\n",
    "print(input.text)"
   ],
   "metadata": {
    "collapsed": false
   }
  },
  {
   "cell_type": "code",
   "execution_count": null,
   "outputs": [],
   "source": [],
   "metadata": {
    "collapsed": false
   }
  }
 ],
 "metadata": {
  "kernelspec": {
   "display_name": "Python 3",
   "language": "python",
   "name": "python3"
  },
  "language_info": {
   "codemirror_mode": {
    "name": "ipython",
    "version": 2
   },
   "file_extension": ".py",
   "mimetype": "text/x-python",
   "name": "python",
   "nbconvert_exporter": "python",
   "pygments_lexer": "ipython2",
   "version": "2.7.6"
  }
 },
 "nbformat": 4,
 "nbformat_minor": 0
}
