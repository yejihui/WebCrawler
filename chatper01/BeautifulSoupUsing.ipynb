{
 "cells": [
  {
   "cell_type": "code",
   "execution_count": 13,
   "metadata": {
    "collapsed": true
   },
   "outputs": [
    {
     "data": {
      "text/plain": "<html><head><title>The Dormouse's story</title></head>\n<body><p class=\"title\"><b>The Dormouse's story</b></p>\n<p class=\"story\">Once upon a time there were three little\nsisters; and their names were\n    <a class=\"sister\" href=\"https://example.com/elsie\" id=\"link1\">Elsie</a>,\n    <a class=\"sister\" href=\"https://example.com/lacie\" id=\"link2\">Lacie</a> and\n    <a class=\"sister\" href=\"https://example.com/tillie\" id=\"link3\">Tillie</a>;\n    and they lived at the bottom of a well.</p>\n<p class=\"story\">...</p>\n</body></html>"
     },
     "execution_count": 13,
     "metadata": {},
     "output_type": "execute_result"
    }
   ],
   "source": [
    "from bs4 import BeautifulSoup\n",
    "html = \"\"\"\n",
    "    <html><head><title>The Dormouse's story</title></head>\n",
    "    <body><p class=\"title\"><b>The Dormouse's story</b></p>\n",
    "    <p class=\"story\">Once upon a time there were three little\n",
    "sisters; and their names were\n",
    "    <a href=\"https://example.com/elsie\" class=\"sister\" id=\"link1\">Elsie</a>,\n",
    "    <a href=\"https://example.com/lacie\" class=\"sister\" id=\"link2\">Lacie</a> and\n",
    "    <a href=\"https://example.com/tillie\" class=\"sister\" id=\"link3\">Tillie</a>;\n",
    "    and they lived at the bottom of a well.</p>\n",
    "    <p class=\"story\">...</p>\n",
    "    \"\"\"\n",
    "\n",
    "soup = BeautifulSoup(html,'lxml')\n",
    "soup"
   ]
  },
  {
   "cell_type": "code",
   "execution_count": 14,
   "outputs": [
    {
     "name": "stdout",
     "output_type": "stream",
     "text": [
      "<html>\n",
      " <head>\n",
      "  <title>\n",
      "   The Dormouse's story\n",
      "  </title>\n",
      " </head>\n",
      " <body>\n",
      "  <p class=\"title\">\n",
      "   <b>\n",
      "    The Dormouse's story\n",
      "   </b>\n",
      "  </p>\n",
      "  <p class=\"story\">\n",
      "   Once upon a time there were three little\n",
      "sisters; and their names were\n",
      "   <a class=\"sister\" href=\"https://example.com/elsie\" id=\"link1\">\n",
      "    Elsie\n",
      "   </a>\n",
      "   ,\n",
      "   <a class=\"sister\" href=\"https://example.com/lacie\" id=\"link2\">\n",
      "    Lacie\n",
      "   </a>\n",
      "   and\n",
      "   <a class=\"sister\" href=\"https://example.com/tillie\" id=\"link3\">\n",
      "    Tillie\n",
      "   </a>\n",
      "   ;\n",
      "    and they lived at the bottom of a well.\n",
      "  </p>\n",
      "  <p class=\"story\">\n",
      "   ...\n",
      "  </p>\n",
      " </body>\n",
      "</html>\n"
     ]
    }
   ],
   "source": [
    "print(soup.prettify())"
   ],
   "metadata": {
    "collapsed": false
   }
  },
  {
   "cell_type": "code",
   "execution_count": 3,
   "outputs": [
    {
     "name": "stdout",
     "output_type": "stream",
     "text": [
      "attrs:  {'href': 'https://example.com/elsie', 'class': ['sister'], 'id': 'link1'}\n",
      "string: Elsie\n",
      "--------------------\n",
      "attrs:  {'href': 'https://example.com/lacie', 'class': ['sister'], 'id': 'link2'}\n",
      "string: Lacie\n",
      "--------------------\n",
      "attrs:  {'href': 'https://example.com/tillie', 'class': ['sister'], 'id': 'link3'}\n",
      "string: Tillie\n",
      "--------------------\n"
     ]
    }
   ],
   "source": [
    "for a in soup.findAll(name='a'): # 找出所有a标签\n",
    "    print('attrs: ',a.attrs)\n",
    "    \"\"\"\n",
    "    在输出结果中出现了换行是因为 tag.string 返回的是标签内的文本内容，而标签内的文本和标签之间的空格和换行符也会作为字符串一部分被返回，因此输出结果出现了换行符。\n",
    "    要去掉这些空格和换行符，可以使用 strip() 方法，\n",
    "    \"\"\"\n",
    "    print('string:',a.string.strip()) #\n",
    "    print('--------------------')"
   ],
   "metadata": {
    "collapsed": false
   }
  },
  {
   "cell_type": "code",
   "execution_count": 4,
   "outputs": [
    {
     "name": "stdout",
     "output_type": "stream",
     "text": [
      "tag: a\n",
      "attrs: {'href': 'https://example.com/elsie', 'class': ['sister'], 'id': 'link1'}\n",
      "string: Elsie\n"
     ]
    }
   ],
   "source": [
    "# 找出所有 class ＝”sister”， id＝” link1＂的标签\n",
    "for tag in soup.findAll(attrs={\"class\":\"sister\",\"id\":\"link1\"}):\n",
    "    print('tag:',tag.name)\n",
    "    print('attrs:',tag.attrs)\n",
    "    print('string:',tag.string.strip())"
   ],
   "metadata": {
    "collapsed": false
   }
  },
  {
   "cell_type": "code",
   "execution_count": 5,
   "outputs": [
    {
     "name": "stdout",
     "output_type": "stream",
     "text": [
      "tag: a\n",
      "attrs: {'href': 'https://example.com/elsie', 'class': ['sister'], 'id': 'link1'}\n",
      "string: Elsie\n"
     ]
    }
   ],
   "source": [
    "# ＃找出所有包含内容为 Elsie 的标签\n",
    "for tag in soup.findAll(name='a',text=\"Elsie\"):\n",
    "    print('tag:',tag.name)\n",
    "    print('attrs:',tag.attrs)\n",
    "    print('string:',tag.string.strip())"
   ],
   "metadata": {
    "collapsed": false
   }
  },
  {
   "cell_type": "code",
   "execution_count": 6,
   "outputs": [
    {
     "name": "stdout",
     "output_type": "stream",
     "text": [
      "<a class=\"sister\" href=\"https://example.com/elsie\" id=\"link1\">Elsie</a>\n",
      "<a class=\"sister\" href=\"https://example.com/lacie\" id=\"link2\">Lacie</a>\n",
      "<a class=\"sister\" href=\"https://example.com/tillie\" id=\"link3\">Tillie</a>\n"
     ]
    }
   ],
   "source": [
    "import re # 用正则 的方式找出所有 id＝ ” link 数字” 的标签\n",
    "for tag in soup.findAll(attrs={'id':re.compile('link\\d')}):\n",
    "    print(tag)"
   ],
   "metadata": {
    "collapsed": false
   }
  },
  {
   "cell_type": "code",
   "execution_count": 7,
   "outputs": [
    {
     "name": "stdout",
     "output_type": "stream",
     "text": [
      "<a class=\"sister\" href=\"https://example.com/elsie\" id=\"link1\">Elsie</a>\n",
      "<a class=\"sister\" href=\"https://example.com/lacie\" id=\"link2\">Lacie</a>\n",
      "<a class=\"sister\" href=\"https://example.com/tillie\" id=\"link3\">Tillie</a>\n"
     ]
    }
   ],
   "source": [
    "# 用正则的方式找出所有包含内容结尾为”ie”的 a 标签\n",
    "for tag in soup.findAll('a',text=re.compile('.*?ie')):\n",
    "    print(tag)"
   ],
   "metadata": {
    "collapsed": false
   }
  },
  {
   "cell_type": "code",
   "execution_count": 8,
   "outputs": [],
   "source": [
    "def parser(tag):\n",
    "    '''\n",
    "    自定义解析函数：解析出标签名为 ’a’，属性不为空且 id 属性为 linkl1的标签\n",
    "    :param tag:\n",
    "    :return:\n",
    "    '''\n",
    "    if tag.name=='a' and tag.attrs and tag.attrs['id'] == 'link1':\n",
    "        return True"
   ],
   "metadata": {
    "collapsed": false
   }
  },
  {
   "cell_type": "code",
   "execution_count": 9,
   "outputs": [
    {
     "name": "stdout",
     "output_type": "stream",
     "text": [
      "<a class=\"sister\" href=\"https://example.com/elsie\" id=\"link1\">Elsie</a>\n"
     ]
    }
   ],
   "source": [
    "\"\"\"\n",
    "使用 soup.findAll() 方法，将解析后的 BeautifulSoup 对象作为参数传递给该方法，并将自定义解析函数 parser 作为第一个参数传递给 findAll() 方法。该方法会遍历所有的标签，当遇到符合自定义解析函数的条件时，该标签就会被记录下来并返回。\n",
    "\"\"\"\n",
    "for tag in soup.findAll(parser):\n",
    "    print(tag)"
   ],
   "metadata": {
    "collapsed": false
   }
  }
 ],
 "metadata": {
  "kernelspec": {
   "display_name": "Python 3",
   "language": "python",
   "name": "python3"
  },
  "language_info": {
   "codemirror_mode": {
    "name": "ipython",
    "version": 2
   },
   "file_extension": ".py",
   "mimetype": "text/x-python",
   "name": "python",
   "nbconvert_exporter": "python",
   "pygments_lexer": "ipython2",
   "version": "2.7.6"
  }
 },
 "nbformat": 4,
 "nbformat_minor": 0
}
